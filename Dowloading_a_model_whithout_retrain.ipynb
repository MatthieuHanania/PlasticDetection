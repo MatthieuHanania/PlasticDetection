{
  "nbformat": 4,
  "nbformat_minor": 0,
  "metadata": {
    "colab": {
      "provenance": [],
      "authorship_tag": "ABX9TyPSX03KsitnqiTqFbLjTunQ",
      "include_colab_link": true
    },
    "kernelspec": {
      "name": "python3",
      "display_name": "Python 3"
    },
    "language_info": {
      "name": "python"
    }
  },
  "cells": [
    {
      "cell_type": "markdown",
      "metadata": {
        "id": "view-in-github",
        "colab_type": "text"
      },
      "source": [
        "<a href=\"https://colab.research.google.com/github/MatthieuHanania/PlasticDetection/blob/main/Dowloading_a_model_whithout_retrain.ipynb\" target=\"_parent\"><img src=\"https://colab.research.google.com/assets/colab-badge.svg\" alt=\"Open In Colab\"/></a>"
      ]
    },
    {
      "cell_type": "code",
      "execution_count": null,
      "metadata": {
        "collapsed": true,
        "id": "4oT46hQM0rmX"
      },
      "outputs": [],
      "source": [
        "!pip install tensorflow==2.14.0"
      ]
    },
    {
      "cell_type": "code",
      "source": [
        "#object detection is not installed,\n",
        "from object_detection.utils import visualization_utils as viz_utils"
      ],
      "metadata": {
        "id": "BjzkBTXchVMm"
      },
      "execution_count": null,
      "outputs": []
    },
    {
      "cell_type": "code",
      "source": [
        "!git clone --depth 1 https://github.com/tensorflow/models"
      ],
      "metadata": {
        "colab": {
          "base_uri": "https://localhost:8080/"
        },
        "id": "qnxKxpge2oCM",
        "outputId": "1d9f68e3-e35d-4b97-fae5-4463ebce5c22",
        "collapsed": true
      },
      "execution_count": 2,
      "outputs": [
        {
          "output_type": "stream",
          "name": "stdout",
          "text": [
            "Cloning into 'models'...\n",
            "remote: Enumerating objects: 4305, done.\u001b[K\n",
            "remote: Counting objects: 100% (4305/4305), done.\u001b[K\n",
            "remote: Compressing objects: 100% (3291/3291), done.\u001b[K\n",
            "remote: Total 4305 (delta 1210), reused 2182 (delta 941), pack-reused 0 (from 0)\u001b[K\n",
            "Receiving objects: 100% (4305/4305), 53.16 MiB | 15.36 MiB/s, done.\n",
            "Resolving deltas: 100% (1210/1210), done.\n",
            "Updating files: 100% (3875/3875), done.\n"
          ]
        }
      ]
    },
    {
      "cell_type": "code",
      "source": [
        "%%bash\n",
        "cd models/research/\n",
        "protoc object_detection/protos/*.proto --python_out=.\n",
        "cp object_detection/packages/tf2/setup.py .\n",
        "python -m pip install ."
      ],
      "metadata": {
        "collapsed": true,
        "id": "4pgir_fe2xAb"
      },
      "execution_count": null,
      "outputs": []
    },
    {
      "cell_type": "code",
      "source": [
        "# Download a model\n",
        "# model zoo : https://github.com/tensorflow/models/blob/master/research/object_detection/g3doc/tf2_detection_zoo.md\n",
        "#!wget  http://download.tensorflow.org/models/object_detection/tf2/20200711/ssd_mobilenet_v2_320x320_coco17_tpu-8.tar.gz\n",
        "!wget http://download.tensorflow.org/models/object_detection/tf2/20200711/efficientdet_d5_coco17_tpu-32.tar.gz\n",
        "!tar -xf efficientdet_d5_coco17_tpu-32.tar.gz\n",
        "!mv efficientdet_d5_coco17_tpu-32/ models/mymodel/"
      ],
      "metadata": {
        "id": "vAv4luz-E2uX"
      },
      "execution_count": null,
      "outputs": []
    },
    {
      "cell_type": "code",
      "source": [
        "import io\n",
        "import os\n",
        "import cv2\n",
        "import scipy.misc\n",
        "import numpy as np\n",
        "import six\n",
        "import time\n",
        "import pandas as pd\n",
        "\n",
        "from six import BytesIO\n",
        "\n",
        "import matplotlib\n",
        "import matplotlib.pyplot as plt\n",
        "from PIL import Image, ImageDraw, ImageFont\n",
        "\n",
        "import tensorflow as tf\n",
        "from object_detection.utils import visualization_utils as viz_utils\n",
        "\n",
        "%matplotlib inline"
      ],
      "metadata": {
        "id": "HqQ-T-n63XCD"
      },
      "execution_count": null,
      "outputs": []
    },
    {
      "cell_type": "code",
      "source": [
        "tf.keras.backend.clear_session()\n",
        "detect_fn = tf.saved_model.load('models/mymodel/saved_model/')"
      ],
      "metadata": {
        "id": "erO6YJwFI_8Q"
      },
      "execution_count": null,
      "outputs": []
    },
    {
      "cell_type": "code",
      "source": [
        "def load_image_into_numpy_array(path):\n",
        "  \"\"\"Load an image from file into a numpy array.\n",
        "\n",
        "  Puts image into numpy array to feed into tensorflow graph.\n",
        "  Note that by convention we put it into a numpy array with shape\n",
        "  (height, width, channels), where channels=3 for RGB.\n",
        "\n",
        "  Args:\n",
        "    path: a file path (this can be local or on colossus)\n",
        "\n",
        "  Returns:\n",
        "    uint8 numpy array with shape (img_height, img_width, 3)\n",
        "  \"\"\"\n",
        "  img_data = tf.io.gfile.GFile(path, 'rb').read()\n",
        "  image = Image.open(BytesIO(img_data))\n",
        "  (im_width, im_height) = image.size\n",
        "  return np.array(image.getdata()).reshape(\n",
        "      (im_height, im_width, 3)).astype(np.uint8)\n",
        "\n",
        "# Load the COCO Label Map\n",
        "\n",
        "category_index = {i: {'id': i, 'name': f'Class {i}'} for i in range(1, 91)}\n",
        "category_index[38] = {'id': 38, 'name': 'bottle'}\n",
        "category_index[44] = {'id': 44, 'name': 'plastic waste'}"
      ],
      "metadata": {
        "id": "xEMmRTQeETLm"
      },
      "execution_count": null,
      "outputs": []
    },
    {
      "cell_type": "code",
      "source": [
        "def export_img(image_path,image_np_with_detections, score):\n",
        "    result_folder = \"results/\"\n",
        "\n",
        "    if not os.path.exists(result_folder):\n",
        "        os.makedirs(result_folder)\n",
        "\n",
        "    image_name = \"result_\"+str(score)+\"_\"+os.path.basename(image_path)\n",
        "    savepath = os.path.join(result_folder, image_name)\n",
        "    print(savepath)\n",
        "\n",
        "    cv2.imwrite(savepath, image_np_with_detections)\n"
      ],
      "metadata": {
        "id": "6zEeon2vKmzR"
      },
      "execution_count": null,
      "outputs": []
    },
    {
      "cell_type": "code",
      "source": [
        "import glob\n",
        "\n",
        "test_images_folder = 'test_images'\n",
        "predictions = {}\n",
        "\n",
        "images = glob.glob(test_images_folder+\"/*.jpg\")\n",
        "\n",
        "id_to_keep = [38,44]\n",
        "\n",
        "#Parcourir chaque image et appeler le modèle\n",
        "for image_to_test_path in images:\n",
        "  image_np = load_image_into_numpy_array(image_to_test_path)\n",
        "  input_tensor = np.expand_dims(image_np, 0)\n",
        "  detections = detect_fn(input_tensor)\n",
        "\n",
        "  # On sort ce qu'il a détecté\n",
        "  detection_boxes = detections['detection_boxes'][0].numpy(),\n",
        "  detection_classes = detections['detection_classes'][0].numpy().astype(np.int32),\n",
        "  detection_scores = detections['detection_scores'][0].numpy(),\n",
        "\n",
        "  # On sauveagrde les classes et score dans un dataframe\n",
        "  predictions[image_to_test_path] = pd.DataFrame({\n",
        "    'Class ID': detection_classes,\n",
        "    'Score': detection_scores\n",
        "  })\n",
        "\n",
        "  ## On souhaite garder que certaines classes, alors on filtre\n",
        "  filtered_boxes = []\n",
        "  fildered_classes = []\n",
        "  filtered_scores = []\n",
        "\n",
        "  detection_classes = detection_classes[0]\n",
        "  detection_boxes = detection_boxes[0]\n",
        "  detection_scores = detection_scores[0]\n",
        "\n",
        "  for i in range (len(detection_classes)):\n",
        "    if detection_classes[i] in id_to_keep:\n",
        "      filtered_boxes.append(detection_boxes[i])\n",
        "      fildered_classes.append(detection_classes[i])\n",
        "      filtered_scores.append(detection_scores[i])\n",
        "\n",
        "\n",
        "  # On affiche que les données filtrées\n",
        "  image_np_with_detections = image_np.copy()\n",
        "  viz_utils.visualize_boxes_and_labels_on_image_array(\n",
        "        image_np_with_detections,\n",
        "        np.array(filtered_boxes),\n",
        "        np.array(fildered_classes),\n",
        "        np.array(filtered_scores),\n",
        "        category_index,\n",
        "        use_normalized_coordinates=True,\n",
        "        max_boxes_to_draw=200,\n",
        "        min_score_thresh=.40,\n",
        "        agnostic_mode=False)\n",
        "\n",
        "  score = round(detections['detection_scores'][0][0].numpy(), 2)\n",
        "\n",
        "  predictions[image_to_test_path] = pd.DataFrame({\n",
        "    'Class ID': detections['detection_classes'][0].numpy().flatten(),\n",
        "    'Score': detections['detection_scores'][0].numpy().flatten()\n",
        "})\n",
        "\n",
        "  export_img(image_to_test_path,image_np_with_detections,score)"
      ],
      "metadata": {
        "id": "QbrFiL7IMOY-",
        "collapsed": true
      },
      "execution_count": null,
      "outputs": []
    },
    {
      "cell_type": "code",
      "source": [
        "assert False"
      ],
      "metadata": {
        "id": "s53tzNQxglIy"
      },
      "execution_count": null,
      "outputs": []
    },
    {
      "cell_type": "code",
      "source": [
        "def clean_folder(folder_path):\n",
        "   for item in os.listdir(folder_path):\n",
        "        item_path = os.path.join(folder_path, item)\n",
        "        if os.path.isfile(item_path) : os.remove(item_path)\n",
        "\n",
        "clean_folder(\"test_images\")"
      ],
      "metadata": {
        "id": "esQNy46mkPct"
      },
      "execution_count": null,
      "outputs": []
    },
    {
      "cell_type": "code",
      "source": [
        "import shutil\n",
        "shutil.make_archive(\"mymodel\", 'zip', \"models/mymodel\")"
      ],
      "metadata": {
        "id": "xWuxrOks9n8m"
      },
      "execution_count": null,
      "outputs": []
    },
    {
      "cell_type": "markdown",
      "source": [
        "Note\n",
        "\n",
        "Le modèle identifie des objets, il va les catégoriser tout seul, 1,2,3,... Pour cela il se base sur le dataset COCO, 1 = voiture...\n",
        "\n",
        "Il va ensuite regarder notre carte de catégories données pour regarder l'association données. Si on lui dit que 1 = déchets, tous les 1 seront alors indiqués comme déchets, même si lui pense que ce sont des voitures"
      ],
      "metadata": {
        "id": "TcC7qro5ea68"
      }
    }
  ]
}